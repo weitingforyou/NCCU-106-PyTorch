{
 "cells": [
  {
   "cell_type": "markdown",
   "metadata": {},
   "source": [
    "# MNIST + AlexNet"
   ]
  },
  {
   "cell_type": "markdown",
   "metadata": {},
   "source": [
    "## layer 1"
   ]
  },
  {
   "cell_type": "markdown",
   "metadata": {},
   "source": [
    "![](./layer1.png)"
   ]
  },
  {
   "cell_type": "markdown",
   "metadata": {},
   "source": [
    "## layer 2"
   ]
  },
  {
   "cell_type": "markdown",
   "metadata": {},
   "source": [
    "![](./layer2.png)"
   ]
  },
  {
   "cell_type": "markdown",
   "metadata": {},
   "source": [
    "## layer 3"
   ]
  },
  {
   "cell_type": "markdown",
   "metadata": {},
   "source": [
    "![](./layer3.png)"
   ]
  },
  {
   "cell_type": "markdown",
   "metadata": {},
   "source": [
    "## layer 4"
   ]
  },
  {
   "cell_type": "markdown",
   "metadata": {},
   "source": [
    "![](./layer4.png)"
   ]
  },
  {
   "cell_type": "markdown",
   "metadata": {},
   "source": [
    "## layer 5"
   ]
  },
  {
   "cell_type": "markdown",
   "metadata": {},
   "source": [
    "![](./layer5.png)"
   ]
  },
  {
   "cell_type": "markdown",
   "metadata": {},
   "source": [
    "## layer 6"
   ]
  },
  {
   "cell_type": "markdown",
   "metadata": {},
   "source": [
    " ![](./layer6.png)"
   ]
  },
  {
   "cell_type": "markdown",
   "metadata": {},
   "source": [
    "## layer 7"
   ]
  },
  {
   "cell_type": "markdown",
   "metadata": {},
   "source": [
    "![](./layer7.png)"
   ]
  },
  {
   "cell_type": "markdown",
   "metadata": {},
   "source": [
    "## layer 8"
   ]
  },
  {
   "cell_type": "markdown",
   "metadata": {},
   "source": [
    "![](./layer8.png)"
   ]
  },
  {
   "cell_type": "markdown",
   "metadata": {},
   "source": [
    "## load package"
   ]
  },
  {
   "cell_type": "code",
   "execution_count": 1,
   "metadata": {
    "collapsed": true
   },
   "outputs": [],
   "source": [
    "import torch\n",
    "import torch.nn as nn\n",
    "from torch.autograd import Variable\n",
    "import torchvision.datasets as dset\n",
    "import torchvision.transforms as transforms\n",
    "import torch.nn.functional as F\n",
    "import torch.optim as optim\n",
    "import time"
   ]
  },
  {
   "cell_type": "markdown",
   "metadata": {},
   "source": [
    "## load data"
   ]
  },
  {
   "cell_type": "code",
   "execution_count": 2,
   "metadata": {
    "collapsed": true
   },
   "outputs": [],
   "source": [
    "trans = transforms.Compose([transforms.ToTensor(), transforms.Normalize((0.5, ), (0.1, ))])\n",
    "\n",
    "train_set = dset.MNIST(root='./training', train=True, transform=trans, download=False)\n",
    "test_set = dset.MNIST(root='./test', train=False, transform=trans, download=False)"
   ]
  },
  {
   "cell_type": "code",
   "execution_count": 3,
   "metadata": {
    "collapsed": true
   },
   "outputs": [],
   "source": [
    "batch_size = 128\n",
    "\n",
    "train_loader = torch.utils.data.DataLoader(\n",
    "                dataset = train_set,\n",
    "                batch_size = batch_size)\n",
    "\n",
    "test_loader = torch.utils.data.DataLoader(\n",
    "                dataset = test_set,\n",
    "                batch_size = batch_size)"
   ]
  },
  {
   "cell_type": "markdown",
   "metadata": {},
   "source": [
    "## AlexNet"
   ]
  },
  {
   "cell_type": "code",
   "execution_count": 4,
   "metadata": {
    "collapsed": true
   },
   "outputs": [],
   "source": [
    "class AlexNet(nn.Module):\n",
    "    def __init__(self, num_classes=10): # mnist 0~9\n",
    "        super().__init__()\n",
    "        \n",
    "        self.layer1 = nn.Sequential(\n",
    "            nn.Conv2d(in_channels=1, out_channels=96, kernel_size=4, stride=2),\n",
    "            nn.ReLU(inplace=True),\n",
    "            nn.MaxPool2d(kernel_size=3, stride=2),\n",
    "        )\n",
    "        \n",
    "        self.layer2 = nn.Sequential(\n",
    "            nn.Conv2d(in_channels=96, out_channels=256, kernel_size=5, groups=2, padding=2),\n",
    "            nn.ReLU(inplace=True),\n",
    "            nn.MaxPool2d(kernel_size=3, stride=1),\n",
    "        )\n",
    "        \n",
    "        self.layer3 = nn.Sequential(\n",
    "            nn.Conv2d(in_channels=256, out_channels=384, padding=1, kernel_size=3),\n",
    "            nn.ReLU(inplace=True)\n",
    "        )\n",
    "        \n",
    "        self.layer4 = nn.Sequential(\n",
    "            nn.Conv2d(in_channels=384, out_channels=384, padding=1, kernel_size=3),\n",
    "            nn.ReLU(inplace=True)\n",
    "        )\n",
    "        \n",
    "        self.layer5 = nn.Sequential(\n",
    "            nn.Conv2d(in_channels=384, out_channels=256, padding=1, kernel_size=3),\n",
    "            nn.ReLU(inplace=True),\n",
    "            nn.MaxPool2d(kernel_size=3, stride=1)\n",
    "        )\n",
    "        \n",
    "        self.layer6 = nn.Sequential(\n",
    "            nn.Linear(in_features=2*2*256, out_features=786),\n",
    "            nn.ReLU(inplace=True),\n",
    "            nn.Dropout()\n",
    "        )\n",
    "        \n",
    "        self.layer7 = nn.Sequential(\n",
    "            nn.Linear(in_features=786, out_features=786),\n",
    "            nn.ReLU(inplace=True),\n",
    "            nn.Dropout()\n",
    "        )\n",
    "        \n",
    "        self.layer8 = nn.Linear(in_features=786, out_features=num_classes)\n",
    "        \n",
    "        self.ceriation = nn.CrossEntropyLoss()\n",
    "    \n",
    "    def forward(self, x, target):\n",
    "        \n",
    "        x = self.layer1(x)\n",
    "        x = self.layer2(x)\n",
    "        x = self.layer3(x)\n",
    "        x = self.layer4(x)\n",
    "        x = self.layer5(x)\n",
    "        \n",
    "        x = x.view(-1, 2*2*256)\n",
    "        \n",
    "        x = self.layer6(x)\n",
    "        x = self.layer7(x)\n",
    "        x = self.layer8(x)\n",
    "        \n",
    "        loss = self.ceriation(x, target)\n",
    "        \n",
    "        return x, loss"
   ]
  },
  {
   "cell_type": "markdown",
   "metadata": {},
   "source": [
    "## optimizer"
   ]
  },
  {
   "cell_type": "code",
   "execution_count": 5,
   "metadata": {
    "collapsed": true
   },
   "outputs": [],
   "source": [
    "model = AlexNet().cpu()\n",
    "optimizer = optim.SGD(model.parameters(), lr=0.01)"
   ]
  },
  {
   "cell_type": "markdown",
   "metadata": {},
   "source": [
    "## training and testing"
   ]
  },
  {
   "cell_type": "code",
   "execution_count": 6,
   "metadata": {
    "scrolled": true
   },
   "outputs": [
    {
     "name": "stdout",
     "output_type": "stream",
     "text": [
      "==>>> epoch: 0, batch index: 0, train loss: 2.303234, time: 2.438838243484497\n",
      "==>>> epoch: 0, batch index: 100, train loss: 2.300382, time: 243.31529092788696\n",
      "==>>> epoch: 0, batch index: 200, train loss: 2.291657, time: 483.15034794807434\n",
      "==>>> epoch: 0, batch index: 300, train loss: 2.280793, time: 723.2750382423401\n",
      "==>>> epoch: 0, batch index: 400, train loss: 2.270288, time: 962.1734411716461\n",
      " epoch: 0, test loss: 2.217790, accuracy: 0.3020, time: 1224.6048822402954\n",
      "==>>> epoch: 1, batch index: 0, train loss: 2.210861, time: 1227.0847890377045\n",
      "==>>> epoch: 1, batch index: 100, train loss: 1.953311, time: 1466.4758858680725\n",
      "==>>> epoch: 1, batch index: 200, train loss: 1.420916, time: 1706.6096358299255\n",
      "==>>> epoch: 1, batch index: 300, train loss: 1.562169, time: 1946.3682956695557\n",
      "==>>> epoch: 1, batch index: 400, train loss: 0.841147, time: 2183.8771257400513\n",
      " epoch: 1, test loss: 1.139876, accuracy: 0.5800, time: 2446.0116233825684\n",
      "==>>> epoch: 2, batch index: 0, train loss: 1.016249, time: 2448.427636384964\n",
      "==>>> epoch: 2, batch index: 100, train loss: 0.424837, time: 2687.381032705307\n",
      "==>>> epoch: 2, batch index: 200, train loss: 0.337798, time: 2925.957047224045\n",
      "==>>> epoch: 2, batch index: 300, train loss: 0.268535, time: 3164.3189136981964\n",
      "==>>> epoch: 2, batch index: 400, train loss: 0.335112, time: 3403.922500371933\n",
      " epoch: 2, test loss: 1.180993, accuracy: 0.5949, time: 3667.09641122818\n",
      "==>>> epoch: 3, batch index: 0, train loss: 1.245440, time: 3669.577014684677\n",
      "==>>> epoch: 3, batch index: 100, train loss: 0.157500, time: 3911.3265330791473\n",
      "==>>> epoch: 3, batch index: 200, train loss: 0.153033, time: 4152.911190986633\n",
      "==>>> epoch: 3, batch index: 300, train loss: 0.166658, time: 4391.224724054337\n",
      "==>>> epoch: 3, batch index: 400, train loss: 0.239641, time: 4628.335520744324\n",
      " epoch: 3, test loss: 0.113871, accuracy: 0.9543, time: 4891.338210582733\n",
      "==>>> epoch: 4, batch index: 0, train loss: 0.098576, time: 4893.911446809769\n",
      "==>>> epoch: 4, batch index: 100, train loss: 0.057825, time: 5132.132123708725\n",
      "==>>> epoch: 4, batch index: 200, train loss: 0.160579, time: 5371.713544130325\n",
      "==>>> epoch: 4, batch index: 300, train loss: 0.142796, time: 5609.371392726898\n",
      "==>>> epoch: 4, batch index: 400, train loss: 0.187492, time: 5846.50088262558\n",
      " epoch: 4, test loss: 0.088741, accuracy: 0.9598, time: 6108.4347558021545\n",
      "==>>> epoch: 5, batch index: 0, train loss: 0.074041, time: 6110.807634830475\n",
      "==>>> epoch: 5, batch index: 100, train loss: 0.043426, time: 6347.850284576416\n",
      "==>>> epoch: 5, batch index: 200, train loss: 0.127245, time: 6585.68911075592\n",
      "==>>> epoch: 5, batch index: 300, train loss: 0.112295, time: 6822.5597195625305\n",
      "==>>> epoch: 5, batch index: 400, train loss: 0.131422, time: 7060.921665430069\n",
      " epoch: 5, test loss: 0.073545, accuracy: 0.9647, time: 7321.414260864258\n",
      "==>>> epoch: 6, batch index: 0, train loss: 0.071275, time: 7323.908775568008\n",
      "==>>> epoch: 6, batch index: 100, train loss: 0.023624, time: 7565.1261122226715\n",
      "==>>> epoch: 6, batch index: 200, train loss: 0.103319, time: 7802.946005344391\n",
      "==>>> epoch: 6, batch index: 300, train loss: 0.117282, time: 8041.047838687897\n",
      "==>>> epoch: 6, batch index: 400, train loss: 0.137684, time: 8279.0673391819\n",
      " epoch: 6, test loss: 0.060698, accuracy: 0.9697, time: 8541.470111370087\n",
      "==>>> epoch: 7, batch index: 0, train loss: 0.049220, time: 8543.815475702286\n",
      "==>>> epoch: 7, batch index: 100, train loss: 0.018306, time: 8779.64189362526\n",
      "==>>> epoch: 7, batch index: 200, train loss: 0.112024, time: 9016.867431640625\n",
      "==>>> epoch: 7, batch index: 300, train loss: 0.121959, time: 9253.225810289383\n",
      "==>>> epoch: 7, batch index: 400, train loss: 0.131681, time: 9490.823693990707\n",
      " epoch: 7, test loss: 0.060850, accuracy: 0.9708, time: 9751.26636314392\n",
      "==>>> epoch: 8, batch index: 0, train loss: 0.041980, time: 9753.659408807755\n",
      "==>>> epoch: 8, batch index: 100, train loss: 0.021928, time: 9990.518535614014\n",
      "==>>> epoch: 8, batch index: 200, train loss: 0.097271, time: 10229.080091953278\n",
      "==>>> epoch: 8, batch index: 300, train loss: 0.126014, time: 10465.948511600494\n",
      "==>>> epoch: 8, batch index: 400, train loss: 0.115645, time: 10703.144942998886\n",
      " epoch: 8, test loss: 0.047405, accuracy: 0.9749, time: 10963.851033449173\n",
      "==>>> epoch: 9, batch index: 0, train loss: 0.048901, time: 10966.195057153702\n",
      "==>>> epoch: 9, batch index: 100, train loss: 0.041666, time: 11201.002655029297\n",
      "==>>> epoch: 9, batch index: 200, train loss: 0.081662, time: 11438.596766471863\n",
      "==>>> epoch: 9, batch index: 300, train loss: 0.091521, time: 11676.046011447906\n",
      "==>>> epoch: 9, batch index: 400, train loss: 0.127966, time: 11914.634346961975\n",
      " epoch: 9, test loss: 0.048755, accuracy: 0.9741, time: 12175.638209819794\n"
     ]
    }
   ],
   "source": [
    "init_time = time.time()\n",
    "for epoch in range(10):\n",
    "    # training\n",
    "    for batch_idx, (x, target) in enumerate(train_loader):\n",
    "        optimizer.zero_grad()\n",
    "        x, target = Variable(x), Variable(target)\n",
    "        _, loss = model(x, target)\n",
    "        loss.backward()\n",
    "        optimizer.step()\n",
    "        if batch_idx % 100 == 0:\n",
    "            print ('==>>> epoch: {}, batch index: {}, train loss: {:.6f}, time: {}'.format(epoch, batch_idx, loss.data[0], time.time()-init_time))\n",
    "           \n",
    "    # testing\n",
    "    correct_cnt, ave_loss = 0, 0\n",
    "    for batch_idx, (x, target) in enumerate(test_loader):\n",
    "        x, target = Variable(x, volatile=True), Variable(target, volatile=True)\n",
    "        score, loss = model(x, target)\n",
    "        _, pred_label = torch.max(score.data, 1)\n",
    "        correct_cnt += (pred_label == target.data).sum()\n",
    "        ave_loss += loss.data[0]\n",
    "    \n",
    "    accuracy = correct_cnt / len(test_loader) / batch_size\n",
    "    ave_loss /= len(test_loader)\n",
    "    print (' epoch: {}, test loss: {:.6f}, accuracy: {:.4f}, time: {}'.format(epoch, ave_loss, accuracy, time.time()-init_time))\n",
    "      "
   ]
  },
  {
   "cell_type": "code",
   "execution_count": null,
   "metadata": {
    "collapsed": true
   },
   "outputs": [],
   "source": []
  }
 ],
 "metadata": {
  "kernelspec": {
   "display_name": "Python 3",
   "language": "python",
   "name": "python3"
  },
  "language_info": {
   "codemirror_mode": {
    "name": "ipython",
    "version": 3
   },
   "file_extension": ".py",
   "mimetype": "text/x-python",
   "name": "python",
   "nbconvert_exporter": "python",
   "pygments_lexer": "ipython3",
   "version": "3.6.1"
  }
 },
 "nbformat": 4,
 "nbformat_minor": 2
}
