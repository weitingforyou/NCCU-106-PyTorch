{
 "cells": [
  {
   "cell_type": "markdown",
   "metadata": {},
   "source": [
    "## import package"
   ]
  },
  {
   "cell_type": "code",
   "execution_count": 3,
   "metadata": {
    "collapsed": true
   },
   "outputs": [],
   "source": [
    "import torch\n",
    "import torch.nn as nn\n",
    "from torch.autograd import Variable\n",
    "import torchvision.datasets as dset\n",
    "import torchvision.transforms as transforms\n",
    "import torch.nn.functional as F\n",
    "import torch.optim as optim"
   ]
  },
  {
   "cell_type": "markdown",
   "metadata": {},
   "source": [
    "## load mnist data"
   ]
  },
  {
   "cell_type": "code",
   "execution_count": 4,
   "metadata": {
    "collapsed": true
   },
   "outputs": [],
   "source": [
    "trans = transforms.Compose([transforms.ToTensor(), transforms.Normalize((0.5, ), (0.1, ))])\n",
    "\n",
    "train_set = dset.MNIST(root='./train', train=True, transform=trans, download=False)\n",
    "test_set = dset.MNIST(root='./test', train=False, transform=trans, download=False)"
   ]
  },
  {
   "cell_type": "code",
   "execution_count": 5,
   "metadata": {
    "collapsed": true
   },
   "outputs": [],
   "source": [
    "batch_size = 128\n",
    "\n",
    "train_loader = torch.utils.data.DataLoader(\n",
    "                dataset = train_set,\n",
    "                batch_size = batch_size)\n",
    "\n",
    "test_loader = torch.utils.data.DataLoader(\n",
    "                dataset = test_set,\n",
    "                batch_size = batch_size)"
   ]
  },
  {
   "cell_type": "markdown",
   "metadata": {},
   "source": [
    "## LeNet"
   ]
  },
  {
   "cell_type": "code",
   "execution_count": 6,
   "metadata": {},
   "outputs": [],
   "source": [
    "class LeNet(nn.Module):\n",
    "    def __init__(self):\n",
    "        super(LeNet, self).__init__()\n",
    "\n",
    "        self.conv1 = nn.Conv2d(1, 6, 5, 1)\n",
    "        self.conv2 = nn.Conv2d(6, 16, 5, 1)\n",
    "        \n",
    "        self.fullyconnected1 = nn.Linear(16*4*4, 120)\n",
    "        self.fullyconnected2 = nn.Linear(120, 10)\n",
    "        \n",
    "        self.ceriation = nn.CrossEntropyLoss()\n",
    "        \n",
    "    def forward(self, x, target):\n",
    "        x = self.conv1(x)\n",
    "        x = F.max_pool2d(x, 2, 2)\n",
    "        x = F.relu(x)\n",
    "        \n",
    "        x = self.conv2(x)\n",
    "        x = F.max_pool2d(x, 2, 2)\n",
    "        x = F.relu(x)\n",
    "        \n",
    "        x = x.view(-1, 16*4*4)\n",
    "        \n",
    "        x = self.fullyconnected1(x)\n",
    "        x = self.fullyconnected2(x)\n",
    "        \n",
    "        loss = self.ceriation(x, target)\n",
    "        return x, loss"
   ]
  },
  {
   "cell_type": "markdown",
   "metadata": {},
   "source": [
    "## optimizer"
   ]
  },
  {
   "cell_type": "code",
   "execution_count": 7,
   "metadata": {},
   "outputs": [],
   "source": [
    "model = LeNet().cpu()\n",
    "optimizer = optim.SGD(model.parameters(), lr=0.01)"
   ]
  },
  {
   "cell_type": "markdown",
   "metadata": {},
   "source": [
    "## training and testing"
   ]
  },
  {
   "cell_type": "code",
   "execution_count": 8,
   "metadata": {
    "scrolled": true
   },
   "outputs": [
    {
     "name": "stdout",
     "output_type": "stream",
     "text": [
      "==>>> epoch: 0, batch index: 0, train loss: 2.377161\n",
      "==>>> epoch: 0, batch index: 100, train loss: 0.451708\n",
      "==>>> epoch: 0, batch index: 200, train loss: 0.212491\n",
      "==>>> epoch: 0, batch index: 300, train loss: 0.208182\n",
      "==>>> epoch: 0, batch index: 400, train loss: 0.259217\n",
      "==>>> epoch: 0, test loss: 0.216903, accuracy: 0.9207\n",
      "==>>> epoch: 1, batch index: 0, train loss: 0.168528\n",
      "==>>> epoch: 1, batch index: 100, train loss: 0.115911\n",
      "==>>> epoch: 1, batch index: 200, train loss: 0.121022\n",
      "==>>> epoch: 1, batch index: 300, train loss: 0.130226\n",
      "==>>> epoch: 1, batch index: 400, train loss: 0.199053\n",
      "==>>> epoch: 1, test loss: 0.123624, accuracy: 0.9503\n",
      "==>>> epoch: 2, batch index: 0, train loss: 0.119901\n",
      "==>>> epoch: 2, batch index: 100, train loss: 0.080362\n",
      "==>>> epoch: 2, batch index: 200, train loss: 0.099456\n",
      "==>>> epoch: 2, batch index: 300, train loss: 0.113397\n",
      "==>>> epoch: 2, batch index: 400, train loss: 0.191024\n",
      "==>>> epoch: 2, test loss: 0.094908, accuracy: 0.9598\n",
      "==>>> epoch: 3, batch index: 0, train loss: 0.106144\n",
      "==>>> epoch: 3, batch index: 100, train loss: 0.063333\n",
      "==>>> epoch: 3, batch index: 200, train loss: 0.086668\n",
      "==>>> epoch: 3, batch index: 300, train loss: 0.106827\n",
      "==>>> epoch: 3, batch index: 400, train loss: 0.189443\n",
      "==>>> epoch: 3, test loss: 0.081244, accuracy: 0.9634\n",
      "==>>> epoch: 4, batch index: 0, train loss: 0.093331\n",
      "==>>> epoch: 4, batch index: 100, train loss: 0.053613\n",
      "==>>> epoch: 4, batch index: 200, train loss: 0.078699\n",
      "==>>> epoch: 4, batch index: 300, train loss: 0.101854\n",
      "==>>> epoch: 4, batch index: 400, train loss: 0.187300\n",
      "==>>> epoch: 4, test loss: 0.073268, accuracy: 0.9651\n",
      "==>>> epoch: 5, batch index: 0, train loss: 0.083204\n",
      "==>>> epoch: 5, batch index: 100, train loss: 0.046153\n",
      "==>>> epoch: 5, batch index: 200, train loss: 0.072691\n",
      "==>>> epoch: 5, batch index: 300, train loss: 0.096798\n",
      "==>>> epoch: 5, batch index: 400, train loss: 0.185890\n",
      "==>>> epoch: 5, test loss: 0.067480, accuracy: 0.9670\n",
      "==>>> epoch: 6, batch index: 0, train loss: 0.074172\n",
      "==>>> epoch: 6, batch index: 100, train loss: 0.041267\n",
      "==>>> epoch: 6, batch index: 200, train loss: 0.070072\n",
      "==>>> epoch: 6, batch index: 300, train loss: 0.093678\n",
      "==>>> epoch: 6, batch index: 400, train loss: 0.184521\n",
      "==>>> epoch: 6, test loss: 0.062968, accuracy: 0.9685\n",
      "==>>> epoch: 7, batch index: 0, train loss: 0.067759\n",
      "==>>> epoch: 7, batch index: 100, train loss: 0.038109\n",
      "==>>> epoch: 7, batch index: 200, train loss: 0.067793\n",
      "==>>> epoch: 7, batch index: 300, train loss: 0.090612\n",
      "==>>> epoch: 7, batch index: 400, train loss: 0.178682\n",
      "==>>> epoch: 7, test loss: 0.059476, accuracy: 0.9689\n",
      "==>>> epoch: 8, batch index: 0, train loss: 0.062314\n",
      "==>>> epoch: 8, batch index: 100, train loss: 0.035054\n",
      "==>>> epoch: 8, batch index: 200, train loss: 0.066102\n",
      "==>>> epoch: 8, batch index: 300, train loss: 0.086114\n",
      "==>>> epoch: 8, batch index: 400, train loss: 0.173363\n",
      "==>>> epoch: 8, test loss: 0.056678, accuracy: 0.9701\n",
      "==>>> epoch: 9, batch index: 0, train loss: 0.057648\n",
      "==>>> epoch: 9, batch index: 100, train loss: 0.032226\n",
      "==>>> epoch: 9, batch index: 200, train loss: 0.064636\n",
      "==>>> epoch: 9, batch index: 300, train loss: 0.081943\n",
      "==>>> epoch: 9, batch index: 400, train loss: 0.168697\n",
      "==>>> epoch: 9, test loss: 0.054430, accuracy: 0.9711\n"
     ]
    }
   ],
   "source": [
    "for epoch in range(10):\n",
    "    # training\n",
    "    for batch_idx, (x, target) in enumerate(train_loader):\n",
    "        optimizer.zero_grad()\n",
    "        x, target = Variable(x), Variable(target)\n",
    "        _, loss = model(x, target)\n",
    "        loss.backward()\n",
    "        optimizer.step()\n",
    "        if batch_idx % 100 == 0:\n",
    "            print ('==>>> epoch: {}, batch index: {}, train loss: {:.6f}'.format(epoch, batch_idx, loss.data[0]))\n",
    "            \n",
    "    # testing\n",
    "    correct_cnt, ave_loss = 0, 0\n",
    "    for batch_idx, (x, target) in enumerate(test_loader):\n",
    "        x, target = Variable(x, volatile=True), Variable(target, volatile=True)\n",
    "        score, loss = model(x, target)\n",
    "        _, pred_label = torch.max(score.data, 1)\n",
    "        correct_cnt += (pred_label == target.data).sum()\n",
    "        ave_loss += loss.data[0]\n",
    "    \n",
    "    accuracy = correct_cnt / len(test_loader) / batch_size\n",
    "    ave_loss /= len(test_loader)\n",
    "    print ('==>>> epoch: {}, test loss: {:.6f}, accuracy: {:.4f}'.format(epoch, ave_loss, accuracy))\n",
    "        "
   ]
  },
  {
   "cell_type": "code",
   "execution_count": null,
   "metadata": {
    "collapsed": true
   },
   "outputs": [],
   "source": []
  }
 ],
 "metadata": {
  "kernelspec": {
   "display_name": "Python 3",
   "language": "python",
   "name": "python3"
  },
  "language_info": {
   "codemirror_mode": {
    "name": "ipython",
    "version": 3
   },
   "file_extension": ".py",
   "mimetype": "text/x-python",
   "name": "python",
   "nbconvert_exporter": "python",
   "pygments_lexer": "ipython3",
   "version": "3.6.1"
  }
 },
 "nbformat": 4,
 "nbformat_minor": 2
}
